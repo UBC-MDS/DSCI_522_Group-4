{
 "cells": [
  {
   "cell_type": "markdown",
   "id": "4e7fac18-6be4-4557-81cb-bd0bce6e3b1a",
   "metadata": {},
   "source": [
    "# What Factors Contribute to Surviving on a Sinking Ship - A Deep Dive into the Titanic\n",
    "By: Alan Powichrowski, Karan Khubdikar, Sam Fo, Sampson Yu"
   ]
  },
  {
   "cell_type": "markdown",
   "id": "c5b543f5-6581-4cb4-9b81-c75f23c0cf67",
   "metadata": {},
   "source": [
    "## Introduction\n",
    "\n",
    "The sinking of the RMS Titanic, was one of the most tragic and known aquatic disasters to have ever occurred in maritime history - and is still constantly explore to this day. On April 1912, the RMS Titanic collided with an iceberg, which lead to its sinking and the death of over 1500 people. Every year roughly 200 people die on cruises, with the last significant maritime cruise accident being the Costa Concordia in 2012, which resulted in 32 deaths and 64 injuries. Events like this serve as an opportunity to study safety as well as human behavior and aspects relating to ones ability to survive a catastrophic event.\n",
    "\n",
    "Numerous groups and bodies have explored the historic consequences and results of the Titanic's sinking, however, there remains a need to statistically break down and analyze the underlying factors that influence ones ability to survive a situation like this. The analysis seeks to understand the complexities surrounding individuals ability to survive a maritime disaster, using 'Paul Hendricks' Titanic data as a case study. We aim to investigate factors that contribute to understanding what elements are associated with ones ability to survive a sinking ship. To achieve appropriate results we will employ the method of Logistic Regression - a classification method used for exploring the relationships between a binary dependent or target variable (survival) and one or more independent variables of predictors (attributes of individuals on the Titanic). This approach will allow us to estimate the probability of the outcome of survival based on various input factors from the data set for each observation.on."
   ]
  },
  {
   "cell_type": "code",
   "execution_count": null,
   "id": "54e935bd-2ba9-4c6a-9e42-4c2073a16612",
   "metadata": {},
   "outputs": [],
   "source": []
  }
 ],
 "metadata": {
  "kernelspec": {
   "display_name": "Python 3 (ipykernel)",
   "language": "python",
   "name": "python3"
  },
  "language_info": {
   "codemirror_mode": {
    "name": "ipython",
    "version": 3
   },
   "file_extension": ".py",
   "mimetype": "text/x-python",
   "name": "python",
   "nbconvert_exporter": "python",
   "pygments_lexer": "ipython3",
   "version": "3.11.6"
  }
 },
 "nbformat": 4,
 "nbformat_minor": 5
}
