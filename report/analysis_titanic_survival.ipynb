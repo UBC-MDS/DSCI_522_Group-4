{
 "cells": [
  {
   "cell_type": "markdown",
   "id": "4e7fac18-6be4-4557-81cb-bd0bce6e3b1a",
   "metadata": {
    "editable": true,
    "slideshow": {
     "slide_type": ""
    },
    "tags": []
   },
   "source": [
    "# What Factors Contribute to Surviving on a Sinking Ship - A Deep Dive into the Titanic\n",
    "By: Alan Powichrowski, Karan Khubdikar, Sam Fo, Sampson Yu"
   ]
  },
  {
   "cell_type": "markdown",
   "id": "c5b543f5-6581-4cb4-9b81-c75f23c0cf67",
   "metadata": {},
   "source": [
    "## Introduction\n",
    "\n",
    "The sinking of the RMS Titanic, was one of the most tragic and known aquatic disasters to have ever occurred in maritime history - and is still constantly explore to this day. On April 1912, the RMS Titanic collided with an iceberg, which lead to its sinking and the death of over 1500 people. Every year roughly 200 people die on cruises, with the last significant maritime cruise accident being the Costa Concordia in 2012, which resulted in 32 deaths and 64 injuries. Events like this serve as an opportunity to study safety as well as human behavior and aspects relating to ones ability to survive a catastrophic event.\n",
    "\n",
    "Numerous groups and bodies have explored the historic consequences and results of the Titanic's sinking, however, there remains a need to statistically break down and analyze the underlying factors that influence ones ability to survive a situation like this. The analysis seeks to understand the complexities surrounding individuals ability to survive a maritime disaster, using 'Paul Hendricks' Titanic data as a case study. We aim to investigate factors that contribute to understanding what elements are associated with ones ability to survive a sinking ship. To achieve appropriate results we will employ the method of Logistic Regression - a classification method used for exploring the relationships between a binary dependent or target variable (survival) and one or more independent variables of predictors (attributes of individuals on the Titanic). This approach will allow us to estimate the probability of the outcome of survival based on various input factors from the data set for each observation.on."
   ]
  },
  {
   "cell_type": "markdown",
   "id": "45d7add2-355f-4353-bb27-72de5d33187f",
   "metadata": {},
   "source": [
    "## Data\n",
    "The data set being used in the report and which the analysis will be based on is the *Titanic Passenger Survival Data Set* data set, which is a compilation of passenger data from RMS Titanic. This data set is available and accessible through the 'titanic' library in R, or through the [Titanic GitHub repository](https://github.com/paulhendricks/titanic/tree/master). This package was created in 2015 by *Paul Hendricks*, and includes important features such as age, sex, ticket class, survival status, and many others. The data package contains two data sets one for training with 891 observations and one for testing with 418 observations, where each observations is a separate passenger from the Titanic - the data contains 12 variables defining unique characteristics of each passenger. The data set contains a breadth of variables such a personal features and socio-economic information which will be fruitful in the exploration of factors effecting ones survival."
   ]
  },
  {
   "cell_type": "markdown",
   "id": "cbcb8abf-a550-4c25-8af2-36bef3aaf34e",
   "metadata": {},
   "source": [
    "## Methodology and Analysis\n",
    "\n",
    "### Logistic Regression\n",
    "For the analysis as mention we will be implementing a Logistic Regression model - this is a statistical method for modeling the probability of a binary outcome based on one or more predictors. In the context of our study, our binary outcome variable or target will be 'Survived' (denoted as '1' for survived and '0' for did not survive), which represents if a passenger survived the accident that occurred on the Titanic. We will be exploring the available predictors in the data set and determining which to use for the model using our reasoning with regards to what information they contribute and if they may cause multicollinearity. The predictors we will chose from are: Passenger ID, Passenger Class, Name, Sex, Age, Number of Siblings or Spouses as passenger has on board, number of Parents or Children a passenger has on board, Ticket Number, Ticket Fare, Cabin Location, ad which Port they embarked from.\n",
    "\n",
    "Logistic Regression can be mathematically represented as:\n",
    "\n",
    "$$log(\\frac{p}{1-p})=\\beta_{0}+\\beta_{1}X_{1}+\\beta_{2}X_{2}+\\cdots+\\beta_{n}X_{n}$$\n",
    "\n",
    "Where $p$ represents the probability of an event of interest occurring which in our case is survival, $\\frac{p}{1-p}$ which is the log odds of that event occurring - which we can deduce the $p$ from:\n",
    "\n",
    "$$p=\\frac{e^{log(\\frac{p}{1-p})}}{1+e^{\\frac{p}{1-p}}}$$\n",
    "\n",
    "We also have $X_{1}, X_{2},\\cdots,X_{n}$ are the predictor variable values, and $\\beta_{0},\\beta_{1},\\cdots,\\beta_{n}$ are the coefficients estimated by the model representing how the variables contribute to our log odds, when there is a one-unit change in the predictor. The $X$ values will be represented by the features that we define as relevant for the analysis from our data set, these will include elements such as age, sex, passenger class, etc."
   ]
  },
  {
   "cell_type": "markdown",
   "id": "5c52bf57-34bd-4535-97e7-42359d511e29",
   "metadata": {
    "editable": true,
    "slideshow": {
     "slide_type": ""
    },
    "tags": []
   },
   "source": [
    "### Selecting From Data Set\n",
    "\n",
    "In applying the Logistic Regression model to the Titanic Data set we aim to explore how different variables influence the likelihood of survival. Since we are only exploring estimation and understanding the relationship between our target and the predictors we will be using the training data set provided in order to fit our model and understand the relationships between features and the target. Contextually we will also select variables that make sense logically as well as in terms of contribution to avoid multicollinearity or variables that are redundant. To start off we will be dropping the values that are unique and carry very little information that could help our model in its estimations, these will be predictors such as Passenger ID, Name of Passenger, and Ticket ID. We also want to work on a complete data set, to avoid any unnecessary assumptions being made for imputing on missing values we will drop the Cabin variable as it is very spare and has a large number of missing values - In addition to this we will be dropping the Embarking Location variable as where the passengers got onto the ship is not relevant to the analysis since they were all on the ship once the catastrophe occurred. Regarding the variables that we are keeping, we will keep Passenger Class as this represents where in the boat they were located which can reflect their ease of exit, we will include Fare as this represents socio-economic status of how much was spent on their ticket which could result in a favorable outcome for them, we kept age and sex as this relates to the idea of 'women and children first' which is known as the Birkenhead Drill and is very relevant in maritime travel, we next include Sibling/Spouse and Parent/Children count to understand how one party on the boat could affect their changes of survival."
   ]
  },
  {
   "cell_type": "markdown",
   "id": "35bd651b-7f12-4c59-ae1a-7827290950c1",
   "metadata": {
    "editable": true,
    "slideshow": {
     "slide_type": ""
    },
    "tags": []
   },
   "source": [
    "## Exploratory Data Analysis\n",
    "\n",
    "We will be exploring the variables and features in the data set to understand their distributions and relationships. As mentioned before we will be looking at the variable Survived, Passenger Class, Sex, Number of Siblings or Spouses, Number of Children or Parents, Fare, and Age - however, we have binned our age into groups of 0-12 as Child, 13-18 as 'Teen', 19-60 as Adult, and over 60 as Senior. We have decided to explore the distributions of the variables and understand how they relate to our target of Survival. The plots below display the distribution of Fare, how Passenger Class relates to Survival, as well as how Sex and Age Group relates to survival."
   ]
  },
  {
   "cell_type": "markdown",
   "metadata": {
    "tags": [
     "remove-input"
    ]
   },
   "source": [
    "```{figure} ../results/plots/financial_plot.png\n",
    "---\n",
    "height: 300px\n",
    "name: Finplot\n",
    "---\n",
    "Distribution of Fare Price across Titanic Patrons\n",
    "```"
   ]
  },
  {
   "cell_type": "markdown",
   "metadata": {
    "tags": [
     "remove-input"
    ]
   },
   "source": [
    "```{figure} ../results/plots/personal_plot.png\n",
    "---\n",
    "height: 200px\n",
    "name: Perplot\n",
    "---\n",
    "Distribution by sex and age group\n",
    "```"
   ]
  },
  {
   "cell_type": "markdown",
   "id": "241f37d1-dae1-48b2-b2df-d433ef07a604",
   "metadata": {
    "editable": true,
    "slideshow": {
     "slide_type": ""
    },
    "tags": []
   },
   "source": [
    "Looking at the plots we can see that there are a few trends to note, which could be interesting to look into when exploring our data and the relationship between the target and predictors. First we can see there is a right skew in fare price, the distribution has most counts to the left meaning a majority of patrons paid under 100 dollars for their ticket. We can then look at how this relates to Survival rate among the different classes of passengers - we can see as we traverse from 1st class to third, there are lower rates of survival, this could lead us to believe there is a relationship here and contextually it could be that the first class passengers had rooms higher up in the vessel which were safer when fleeing the boat. Next looking at Survival by Se we can see that female passengers had a much higher survival rate than those of male patrons, also looking at survival rate by age group we can see hat children had the highest survival rate while seniors had the lowest - the older you are the lower your survival rate it seems like. This EDA is very insightful and helpful for seeing that there may be relationships between our target and predictor variables - we will now move on to modeling."
   ]
  },
  {
   "cell_type": "markdown",
   "id": "bd7008f7-0ed2-458d-a5dd-8918977780f8",
   "metadata": {
    "editable": true,
    "slideshow": {
     "slide_type": ""
    },
    "tags": []
   },
   "source": [
    "## Results & Discussion of Logistic Regression"
   ]
  },
  {
   "cell_type": "markdown",
   "id": "2b798c41",
   "metadata": {},
   "source": [
    "The Logistic Regression model that was fit follows the following form, with dummy variables to represent the classes from the categorical values:\n",
    "\n",
    "$$log(\\frac{p}{1-p}) = \\beta_0 + \\beta_{Class = 1} + \\beta_{Class = 2} + \\beta_{Class = 3}+ \\beta_{Sex = Female} + \\beta_{Sex = Male}$$  \n",
    "$$+ \\beta_{Count\\;Sibling\\;Spouse}+ \\beta_{Count\\;Parent\\;Child} + \\beta_{Fare} + \\beta_{AgeGroup=Child}+ \\beta_{AgeGroup=Teen} + \\beta_{AgeGroup=Adult} + \\beta_{AgeGroup=Senior}$$"
   ]
  },
  {
   "cell_type": "code",
   "execution_count": 3,
   "id": "f081d944-9542-4ae3-9f84-9172f8659c82",
   "metadata": {
    "editable": true,
    "slideshow": {
     "slide_type": ""
    },
    "tags": [
     "remove-input",
     "remove-cell"
    ]
   },
   "outputs": [],
   "source": [
    "import pandas as pd\n",
    "model_summary <- pd.read_csv(\"../results/models/model_summary_table.csv\")\n",
    "glue(\"model_summary\", model_summary)"
   ]
  },
  {
   "cell_type": "markdown",
   "metadata": {
    "tags": [
     "remove-input"
    ]
   },
   "source": [
    "```{glue:figure} model_summary\n",
    "\n",
    "```"
   ]
  },
  {
   "cell_type": "markdown",
   "id": "068a37cc",
   "metadata": {},
   "source": [
    "Out base model is one with Passengers that are Female, are in First Class, and are in the age group of Child. We can now look at the results of our logistic regression model and inspect the coefficient values to understand what predictors effect the log odds and probability of someone surviving the Titanic."
   ]
  },
  {
   "cell_type": "markdown",
   "id": "43dcba91",
   "metadata": {},
   "source": [
    "The logistic regression results provide valuable insights into the factors affecting the likelihood of survival on the Titanic. Each coefficient in the table represents the log odds of survival for each unit change in the predictor, while holding all other predictors constant."
   ]
  },
  {
   "cell_type": "markdown",
   "id": "03e306b3",
   "metadata": {},
   "source": [
    "- Intercept (4.8361): This value indicates the log odds of survival when all other predictors are at their reference level. In this context, it is the baseline log odds of survival for a passenger when all other variables are zero.\n",
    "- Passenger Class (Pclass2: -0.9711, Pclass3: -2.0246): These coefficients suggest that being in the 2nd or 3rd class significantly decreases the odds of survival compared to being in the 1st class. The negative values indicate that as we move from the 1st class to lower classes, the likelihood of survival decreases.\n",
    "- Gender (Sexmale: -2.7582): This significant negative coefficient for male passengers indicates that being male greatly reduces the odds of survival compared to female passengers.\n",
    "- Siblings/Spouses Aboard (SibSp: -0.5511): A negative coefficient implies that an increase in the number of siblings or spouses aboard decreases the survival probability.\n",
    "- Parents/Children Aboard (Parch: -0.2260): Similarly, this suggests that having more parents or children aboard slightly decreases the chances of survival\n",
    "- Fare (0.0044): The positive coefficient for fare implies that higher fares slightly increase the odds of survival, possibly reflecting higher socio-economic status and access to better resources.\n",
    "- Age Group (Teen: -2.1938, Adult: -2.3263, Senior: -3.4196): These negative coefficients indicate that being a teenager, adult, or senior decreases the odds of survival compared to being a child. The effect is most pronounced for seniors."
   ]
  },
  {
   "cell_type": "markdown",
   "id": "7679c835",
   "metadata": {},
   "source": [
    "## Summary of the Findings\n",
    "\n",
    "This data analysis report focuses on identifying the factors that contributed to survival during the sinking of the RMS Titanic, using logistic regression analysis. The Titanic dataset contains information about passengers such as age, sex, ticket class, and survival status. The analysis aims to pinpoint specific attributes that influenced the likelihood of survival.\n",
    "\n",
    "- Passenger Class: There's a clear negative correlation between passenger class and survival probability. Passengers in lower classes (2nd and 3rd) had significantly lower odds of surviving compared to those in 1st class.\n",
    "- Gender: Female passengers had a much higher chance of survival than male passengers.\n",
    "- Age: Age groups also played a critical role. Children had a higher survival rate, while seniors had the lowest.\n",
    "- Socio-Economic Status: Represented by fare, it had a lesser impact on survival probability.\n",
    "\n",
    "In summary, the analysis provides a detailed understanding of the factors influencing survival on the Titanic. Class and gender emerged as the most significant factors, followed by age. These findings highlight the social hierarchies and norms of the time, where women and children, particularly from higher social classes, were given priority during rescue efforts. Such analyses not only shed light on historical events but also offer valuable insights for modern maritime safety and disaster management strategies."
   ]
  },
  {
   "cell_type": "markdown",
   "id": "9ee3b4e2-60cc-4c42-980f-f8a81765f05c",
   "metadata": {},
   "source": [
    "## Limitations:\n",
    "As seen in the report we made use of a logistic regression model for our analysis, however the model was never tested on any testing data as we only looked to explore relationships rather than make predictions. This limitation could be addressed in the future by applying our model to a test dataset and identifying its performance through looking at accuracy, precision, recall, and an ROC curve.\n",
    "Additionally, if we had more time, it would be worth while to also model this data and the relationships using other models such as Decision Trees, Random Forests, or Support Vector Machines for classification. There may be more complex relationships to explore and testing this with various models could be beneficial when finding the true relationship between the target and our features. We would also like to explore a more robust method of feature selection (such as cross validation) rather than just choosing our features contextually and through 3rd party knowledge – as there may be multicollinearity that we are not accounting for and or assumptions through the method we employed. These additional efforts would help create a more robust model that we could then apply to maritime data that spans beyond the data of just Titanic patrons."
   ]
  },
  {
   "cell_type": "markdown",
   "id": "039eebd0-d7f7-4e1e-adfa-1962d36d0640",
   "metadata": {
    "editable": true,
    "slideshow": {
     "slide_type": ""
    },
    "tags": []
   },
   "source": [
    "## References"
   ]
  },
  {
   "cell_type": "markdown",
   "metadata": {
    "tags": [
     "remove-input"
    ]
   },
   "source": [
    "```\n",
    "{bibliography}\n",
    "```"
   ]
  }
 ],
 "metadata": {
  "kernelspec": {
   "display_name": "522_group4_M1",
   "language": "python",
   "name": "python3"
  },
  "language_info": {
   "codemirror_mode": {
    "name": "ipython",
    "version": 3
   },
   "file_extension": ".py",
   "mimetype": "text/x-python",
   "name": "python",
   "nbconvert_exporter": "python",
   "pygments_lexer": "ipython3",
   "version": "3.11.6"
  }
 },
 "nbformat": 4,
 "nbformat_minor": 5
}
