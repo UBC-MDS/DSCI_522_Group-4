














# install.packages("titanic")
library(tidyverse)
library(titanic)


library(magick)
image_read("../results/plots/financial_plot.png")


```{python}
print("hi")
```


# install.packages("reticulate")
library(reticulate)


source("../R/data_wrangling_functions.R")

clean_data <- select_columns(titanic_train, c("Survived", "Pclass", "Sex", "Age", "SibSp", "Parch", "Fare"))

analysis_data <- clean_and_organize_data(clean_data)

head(analysis_data)


summary(analysis_data)





options(repr.plot.height = 15, repr.plot.width = 10)

source("../R/EDA_functions.R")

#Financial Attribute based EDA of Passengers and Survival
plot_financial_info(analysis_data)


options(repr.plot.height = 6, repr.plot.width = 10)

source("../R/EDA_functions.R")

plot_personal_attributes(analysis_data)











source("../R/modeling_analysis_functions.R")

features_to_use <- c("Pclass", "Sex", "SibSp", "Parch", "Fare", "AgeGroup")
target_variable <- "Survived"

logistic_model <- fit_logistic_model(analysis_data, target_variable, features_to_use)

summary(logistic_model)


library(knitr)
source("../R/modeling_analysis_functions.R")

results_table <- create_model_summary_table(logistic_model)

kable(results_table,
    format = "markdown", digits = 4,
    col.names = c("Term", "Estimate", "Standard Error", "z-value", "P-value"),
    caption = "Logistic Regression Results"
)





















